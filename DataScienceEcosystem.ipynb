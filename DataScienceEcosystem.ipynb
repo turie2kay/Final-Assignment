{
 "cells": [
  {
   "cell_type": "markdown",
   "id": "cffc68bc-7121-42f5-a64e-a172145bfb06",
   "metadata": {},
   "source": [
    "# Data Science Tools and Ecosystem"
   ]
  },
  {
   "cell_type": "markdown",
   "id": "a25974bd-b635-45c5-8646-4e36e57a18f4",
   "metadata": {},
   "source": [
    "### In this notebook, Data Science Tools and Ecosystem are summarised"
   ]
  },
  {
   "cell_type": "markdown",
   "id": "4ae28668-e3fd-4fe9-9fc0-a1c98700a96b",
   "metadata": {},
   "source": [
    "**Objectives:**\n",
    "* Common tools used by Data scientists\n",
    "* Popular Languages used by Data Scientists\n",
    "* Commonly used libraries by Data Scientists\n",
    "* How to create a GitHub account"
   ]
  },
  {
   "cell_type": "markdown",
   "id": "b5809b9b-31ce-4000-ba68-2c8ca0303141",
   "metadata": {
    "jp-MarkdownHeadingCollapsed": true
   },
   "source": [
    "### Some of the popular languages that Data Scientists use are:\n",
    "1. Python\n",
    "2. SQL\n",
    "3. R\n",
    "4. Java\n",
    "5. Julia\n",
    "6. Scala"
   ]
  },
  {
   "cell_type": "markdown",
   "id": "128badee-f4d3-4501-b7bd-c235c3a27f82",
   "metadata": {},
   "source": [
    "### Some of the commonly used libraries used by Data Scientists include:\n",
    "1. Pandas\n",
    "2. NumPy\n",
    "3. Matplotlib\n",
    "4. TensorFlow\n",
    "5. PyTorch"
   ]
  },
  {
   "cell_type": "markdown",
   "id": "1167508d-4c79-4bed-9a5a-6c68593e4014",
   "metadata": {},
   "source": [
    "| Data Science Tools |\n",
    "|--------------------|\n",
    "| Jupyter Notebooks |\n",
    "| Pandas |\n",
    "| Tidyverse |"
   ]
  },
  {
   "cell_type": "markdown",
   "id": "6306f595-a760-47cd-99f4-3d23dbdb1a50",
   "metadata": {},
   "source": [
    "### Below are few examples of evaluating arithmetic expressions in Python\n",
    "5+5\n",
    "6*7"
   ]
  },
  {
   "cell_type": "markdown",
   "id": "c328ad58-cf8d-4196-8c21-27ea1ac4f6ce",
   "metadata": {},
   "source": [
    "### Below are few examples of evaluating arithmetic expressions in Python\n",
    "- 5+5\n",
    "- 6*2\n"
   ]
  },
  {
   "cell_type": "code",
   "execution_count": 11,
   "id": "2b8f03e4-6cc6-4a6b-b46b-1cd2ced25928",
   "metadata": {},
   "outputs": [
    {
     "name": "stdout",
     "output_type": "stream",
     "text": [
      "17\n"
     ]
    }
   ],
   "source": [
    "# This is a simple arithmetic expression to multiply then add integers\n",
    "result = (3*4) + 5\n",
    "print (result)"
   ]
  },
  {
   "cell_type": "code",
   "execution_count": 13,
   "id": "c35c11d5-1268-48ab-804f-d749f78ca88e",
   "metadata": {},
   "outputs": [
    {
     "name": "stdout",
     "output_type": "stream",
     "text": [
      "3.3333333333333335\n"
     ]
    }
   ],
   "source": [
    "# This will convert 200 minutes to hours by dividing by 60\n",
    "minutes = 200\n",
    "hours = minutes / 60\n",
    "print (hours)"
   ]
  },
  {
   "cell_type": "markdown",
   "id": "7fe8d8f5-f9d3-4eed-a6e0-30cb5e249779",
   "metadata": {},
   "source": [
    "## Author\n",
    "A. Arthur"
   ]
  },
  {
   "cell_type": "code",
   "execution_count": null,
   "id": "c09f23f3-adab-4c8d-82d3-37dc0716e9ad",
   "metadata": {},
   "outputs": [],
   "source": []
  }
 ],
 "metadata": {
  "kernelspec": {
   "display_name": "Python [conda env:base] *",
   "language": "python",
   "name": "conda-base-py"
  },
  "language_info": {
   "codemirror_mode": {
    "name": "ipython",
    "version": 3
   },
   "file_extension": ".py",
   "mimetype": "text/x-python",
   "name": "python",
   "nbconvert_exporter": "python",
   "pygments_lexer": "ipython3",
   "version": "3.12.7"
  }
 },
 "nbformat": 4,
 "nbformat_minor": 5
}
